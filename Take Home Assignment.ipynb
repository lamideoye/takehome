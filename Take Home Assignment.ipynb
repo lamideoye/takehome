{
 "cells": [
  {
   "cell_type": "markdown",
   "metadata": {},
   "source": [
    "## Getting Started\n",
    "<br> To get started, we will need to:\n",
    "<ol>\n",
    "<li>Download the <b>brent crude price</b> data from: <a href=\"https://www.investing.com/commodities/brent-oil\">https://www.investing.com/commodities/brent-oil</a></li>\n",
    "<li>Download the <b>gold future price</b> data from: <a href=\"https://www.investing.com/commodities/gold\">https://www.investing.com/commodities/gold</a></li>\n",
    "<li>Download the <b>bitcoin(USD) price</b> data from: <a href=\"https://www.investing.com/crypto/bitcoin\">https://www.investing.com/crypto/bitcoin</a></li>\n",
    "<li>Download the <b>Nigerian Stock Exchange All Share Index</b> data from: <a href=\"https://www.investing.com/indices/nse-all-share-historical-data\">https://www.investing.com/indices/nse-all-share-historical-data</a></li>\n",
    "</ol>\n",
    "<br> The data is for the time period 01/01/18 - 09/07/18\n"
   ]
  },
  {
   "cell_type": "markdown",
   "metadata": {},
   "source": [
    "### Import the libraries we will be using\n",
    "\n",
    "<ol>\n",
    "<li><b>Pandas</b> For data wrangling and Manipulation</li>\n",
    "<li><b>Plotly and Seaborn</b> For Visualization</li>\n",
    "<li><b>MinMaxScaler</b> To Scale our data</li>"
   ]
  },
  {
   "cell_type": "code",
   "execution_count": 1,
   "metadata": {},
   "outputs": [
    {
     "data": {
      "text/html": [
       "<script>requirejs.config({paths: { 'plotly': ['https://cdn.plot.ly/plotly-latest.min']},});if(!window.Plotly) {{require(['plotly'],function(plotly) {window.Plotly=plotly;});}}</script>"
      ],
      "text/vnd.plotly.v1+html": [
       "<script>requirejs.config({paths: { 'plotly': ['https://cdn.plot.ly/plotly-latest.min']},});if(!window.Plotly) {{require(['plotly'],function(plotly) {window.Plotly=plotly;});}}</script>"
      ]
     },
     "metadata": {},
     "output_type": "display_data"
    }
   ],
   "source": [
    "import pandas as pd\n",
    "\n",
    "from sklearn.preprocessing import MinMaxScaler\n",
    "\n",
    "import seaborn as sns\n",
    "import plotly\n",
    "from plotly.offline import iplot\n",
    "import plotly.graph_objs as go\n",
    "\n",
    "plotly.offline.init_notebook_mode(connected=True)"
   ]
  },
  {
   "cell_type": "markdown",
   "metadata": {},
   "source": [
    "<br> The data have been downloaded\n",
    "<br> They were placed in the current working directory\n",
    "<br> We can check the content of the current working directory by using the Ipython magic function"
   ]
  },
  {
   "cell_type": "code",
   "execution_count": 2,
   "metadata": {},
   "outputs": [
    {
     "name": "stdout",
     "output_type": "stream",
     "text": [
      "'Brent Oil Futures Historical Data.csv'  'NSE All Share Historical Data.csv'\r\n",
      "'BTC_USD Bitfinex Historical Data.csv'   'Take Home Assignment.ipynb'\r\n",
      "'Gold Futures Historical Data.csv'\r\n"
     ]
    }
   ],
   "source": [
    "%ls"
   ]
  },
  {
   "cell_type": "markdown",
   "metadata": {},
   "source": [
    "#### Ingest Data\n",
    "Now, we will need to read the dataset using the commands below\n",
    "\n",
    "The data are read into a pandas data frame."
   ]
  },
  {
   "cell_type": "code",
   "execution_count": 3,
   "metadata": {},
   "outputs": [],
   "source": [
    "nse_df = pd.read_csv('NSE All Share Historical Data.csv')\n",
    "btc_df = pd.read_csv('BTC_USD Bitfinex Historical Data.csv')\n",
    "gold_df = pd.read_csv('Gold Futures Historical Data.csv')\n",
    "brent_df = pd.read_csv('Brent Oil Futures Historical Data.csv')"
   ]
  },
  {
   "cell_type": "markdown",
   "metadata": {},
   "source": [
    "<h1 style=\"font-size:2em;color:#2467C0\">Exploring Data</h1>\n",
    "<br> Let's check the first five rows of our data"
   ]
  },
  {
   "cell_type": "code",
   "execution_count": 4,
   "metadata": {},
   "outputs": [
    {
     "data": {
      "text/html": [
       "<div>\n",
       "<style>\n",
       "    .dataframe thead tr:only-child th {\n",
       "        text-align: right;\n",
       "    }\n",
       "\n",
       "    .dataframe thead th {\n",
       "        text-align: left;\n",
       "    }\n",
       "\n",
       "    .dataframe tbody tr th {\n",
       "        vertical-align: top;\n",
       "    }\n",
       "</style>\n",
       "<table border=\"1\" class=\"dataframe\">\n",
       "  <thead>\n",
       "    <tr style=\"text-align: right;\">\n",
       "      <th></th>\n",
       "      <th>Date</th>\n",
       "      <th>Price</th>\n",
       "      <th>Open</th>\n",
       "      <th>High</th>\n",
       "      <th>Low</th>\n",
       "      <th>Vol.</th>\n",
       "      <th>Change %</th>\n",
       "    </tr>\n",
       "  </thead>\n",
       "  <tbody>\n",
       "    <tr>\n",
       "      <th>0</th>\n",
       "      <td>1/2/2018</td>\n",
       "      <td>38264.79</td>\n",
       "      <td>38243.19</td>\n",
       "      <td>38268.82</td>\n",
       "      <td>37,646.88</td>\n",
       "      <td>248.48M</td>\n",
       "      <td>0.06%</td>\n",
       "    </tr>\n",
       "    <tr>\n",
       "      <th>1</th>\n",
       "      <td>1/3/2018</td>\n",
       "      <td>38187.28</td>\n",
       "      <td>38264.79</td>\n",
       "      <td>38579.51</td>\n",
       "      <td>38,187.28</td>\n",
       "      <td>580.71M</td>\n",
       "      <td>-0.20%</td>\n",
       "    </tr>\n",
       "    <tr>\n",
       "      <th>2</th>\n",
       "      <td>1/4/2018</td>\n",
       "      <td>38676.12</td>\n",
       "      <td>38187.28</td>\n",
       "      <td>38848.31</td>\n",
       "      <td>38,182.94</td>\n",
       "      <td>825.13M</td>\n",
       "      <td>1.28%</td>\n",
       "    </tr>\n",
       "    <tr>\n",
       "      <th>3</th>\n",
       "      <td>1/5/2018</td>\n",
       "      <td>38923.26</td>\n",
       "      <td>38676.12</td>\n",
       "      <td>39113.68</td>\n",
       "      <td>38,676.12</td>\n",
       "      <td>753.29M</td>\n",
       "      <td>0.64%</td>\n",
       "    </tr>\n",
       "    <tr>\n",
       "      <th>4</th>\n",
       "      <td>1/8/2018</td>\n",
       "      <td>39849.65</td>\n",
       "      <td>38923.26</td>\n",
       "      <td>39851.45</td>\n",
       "      <td>38,908.12</td>\n",
       "      <td>604.53M</td>\n",
       "      <td>2.38%</td>\n",
       "    </tr>\n",
       "  </tbody>\n",
       "</table>\n",
       "</div>"
      ],
      "text/plain": [
       "       Date     Price      Open      High        Low     Vol. Change %\n",
       "0  1/2/2018  38264.79  38243.19  38268.82  37,646.88  248.48M    0.06%\n",
       "1  1/3/2018  38187.28  38264.79  38579.51  38,187.28  580.71M   -0.20%\n",
       "2  1/4/2018  38676.12  38187.28  38848.31  38,182.94  825.13M    1.28%\n",
       "3  1/5/2018  38923.26  38676.12  39113.68  38,676.12  753.29M    0.64%\n",
       "4  1/8/2018  39849.65  38923.26  39851.45  38,908.12  604.53M    2.38%"
      ]
     },
     "execution_count": 4,
     "metadata": {},
     "output_type": "execute_result"
    }
   ],
   "source": [
    "nse_df.head()"
   ]
  },
  {
   "cell_type": "code",
   "execution_count": 5,
   "metadata": {},
   "outputs": [
    {
     "data": {
      "text/html": [
       "<div>\n",
       "<style>\n",
       "    .dataframe thead tr:only-child th {\n",
       "        text-align: right;\n",
       "    }\n",
       "\n",
       "    .dataframe thead th {\n",
       "        text-align: left;\n",
       "    }\n",
       "\n",
       "    .dataframe tbody tr th {\n",
       "        vertical-align: top;\n",
       "    }\n",
       "</style>\n",
       "<table border=\"1\" class=\"dataframe\">\n",
       "  <thead>\n",
       "    <tr style=\"text-align: right;\">\n",
       "      <th></th>\n",
       "      <th>Date</th>\n",
       "      <th>Price</th>\n",
       "      <th>Open</th>\n",
       "      <th>High</th>\n",
       "      <th>Low</th>\n",
       "      <th>Vol.</th>\n",
       "      <th>Change %</th>\n",
       "    </tr>\n",
       "  </thead>\n",
       "  <tbody>\n",
       "    <tr>\n",
       "      <th>0</th>\n",
       "      <td>1/1/2018</td>\n",
       "      <td>1308.7</td>\n",
       "      <td>1305.8</td>\n",
       "      <td>1309.7</td>\n",
       "      <td>1304.6</td>\n",
       "      <td>-</td>\n",
       "      <td>0.18%</td>\n",
       "    </tr>\n",
       "    <tr>\n",
       "      <th>1</th>\n",
       "      <td>1/2/2018</td>\n",
       "      <td>1313.7</td>\n",
       "      <td>1302.3</td>\n",
       "      <td>1317.6</td>\n",
       "      <td>1302.3</td>\n",
       "      <td>0.07K</td>\n",
       "      <td>0.38%</td>\n",
       "    </tr>\n",
       "    <tr>\n",
       "      <th>2</th>\n",
       "      <td>1/3/2018</td>\n",
       "      <td>1316.2</td>\n",
       "      <td>1320.0</td>\n",
       "      <td>1320.1</td>\n",
       "      <td>1312.1</td>\n",
       "      <td>0.04K</td>\n",
       "      <td>0.19%</td>\n",
       "    </tr>\n",
       "    <tr>\n",
       "      <th>3</th>\n",
       "      <td>1/4/2018</td>\n",
       "      <td>1319.4</td>\n",
       "      <td>1322.0</td>\n",
       "      <td>1322.0</td>\n",
       "      <td>1321.9</td>\n",
       "      <td>0.00K</td>\n",
       "      <td>0.24%</td>\n",
       "    </tr>\n",
       "    <tr>\n",
       "      <th>4</th>\n",
       "      <td>1/5/2018</td>\n",
       "      <td>1320.3</td>\n",
       "      <td>1320.3</td>\n",
       "      <td>1320.3</td>\n",
       "      <td>1320.3</td>\n",
       "      <td>0.00K</td>\n",
       "      <td>0.07%</td>\n",
       "    </tr>\n",
       "  </tbody>\n",
       "</table>\n",
       "</div>"
      ],
      "text/plain": [
       "       Date   Price    Open    High     Low   Vol. Change %\n",
       "0  1/1/2018  1308.7  1305.8  1309.7  1304.6      -    0.18%\n",
       "1  1/2/2018  1313.7  1302.3  1317.6  1302.3  0.07K    0.38%\n",
       "2  1/3/2018  1316.2  1320.0  1320.1  1312.1  0.04K    0.19%\n",
       "3  1/4/2018  1319.4  1322.0  1322.0  1321.9  0.00K    0.24%\n",
       "4  1/5/2018  1320.3  1320.3  1320.3  1320.3  0.00K    0.07%"
      ]
     },
     "execution_count": 5,
     "metadata": {},
     "output_type": "execute_result"
    }
   ],
   "source": [
    "gold_df.head()"
   ]
  },
  {
   "cell_type": "code",
   "execution_count": 6,
   "metadata": {},
   "outputs": [
    {
     "data": {
      "text/html": [
       "<div>\n",
       "<style>\n",
       "    .dataframe thead tr:only-child th {\n",
       "        text-align: right;\n",
       "    }\n",
       "\n",
       "    .dataframe thead th {\n",
       "        text-align: left;\n",
       "    }\n",
       "\n",
       "    .dataframe tbody tr th {\n",
       "        vertical-align: top;\n",
       "    }\n",
       "</style>\n",
       "<table border=\"1\" class=\"dataframe\">\n",
       "  <thead>\n",
       "    <tr style=\"text-align: right;\">\n",
       "      <th></th>\n",
       "      <th>Date</th>\n",
       "      <th>Price</th>\n",
       "      <th>Open</th>\n",
       "      <th>High</th>\n",
       "      <th>Low</th>\n",
       "      <th>Vol.</th>\n",
       "      <th>Change %</th>\n",
       "    </tr>\n",
       "  </thead>\n",
       "  <tbody>\n",
       "    <tr>\n",
       "      <th>0</th>\n",
       "      <td>1/2/2018</td>\n",
       "      <td>66.57</td>\n",
       "      <td>66.55</td>\n",
       "      <td>67.29</td>\n",
       "      <td>66.24</td>\n",
       "      <td>211.74K</td>\n",
       "      <td>-0.45%</td>\n",
       "    </tr>\n",
       "    <tr>\n",
       "      <th>1</th>\n",
       "      <td>1/3/2018</td>\n",
       "      <td>67.84</td>\n",
       "      <td>66.54</td>\n",
       "      <td>68.03</td>\n",
       "      <td>66.40</td>\n",
       "      <td>260.86K</td>\n",
       "      <td>1.91%</td>\n",
       "    </tr>\n",
       "    <tr>\n",
       "      <th>2</th>\n",
       "      <td>1/4/2018</td>\n",
       "      <td>68.07</td>\n",
       "      <td>67.89</td>\n",
       "      <td>68.27</td>\n",
       "      <td>67.62</td>\n",
       "      <td>246.15K</td>\n",
       "      <td>0.34%</td>\n",
       "    </tr>\n",
       "    <tr>\n",
       "      <th>3</th>\n",
       "      <td>1/5/2018</td>\n",
       "      <td>67.62</td>\n",
       "      <td>67.97</td>\n",
       "      <td>68.11</td>\n",
       "      <td>67.26</td>\n",
       "      <td>183.45K</td>\n",
       "      <td>-0.66%</td>\n",
       "    </tr>\n",
       "    <tr>\n",
       "      <th>4</th>\n",
       "      <td>1/8/2018</td>\n",
       "      <td>67.78</td>\n",
       "      <td>67.80</td>\n",
       "      <td>67.99</td>\n",
       "      <td>67.44</td>\n",
       "      <td>210.35K</td>\n",
       "      <td>0.24%</td>\n",
       "    </tr>\n",
       "  </tbody>\n",
       "</table>\n",
       "</div>"
      ],
      "text/plain": [
       "       Date  Price   Open   High    Low     Vol. Change %\n",
       "0  1/2/2018  66.57  66.55  67.29  66.24  211.74K   -0.45%\n",
       "1  1/3/2018  67.84  66.54  68.03  66.40  260.86K    1.91%\n",
       "2  1/4/2018  68.07  67.89  68.27  67.62  246.15K    0.34%\n",
       "3  1/5/2018  67.62  67.97  68.11  67.26  183.45K   -0.66%\n",
       "4  1/8/2018  67.78  67.80  67.99  67.44  210.35K    0.24%"
      ]
     },
     "execution_count": 6,
     "metadata": {},
     "output_type": "execute_result"
    }
   ],
   "source": [
    "brent_df.head()"
   ]
  },
  {
   "cell_type": "code",
   "execution_count": 7,
   "metadata": {},
   "outputs": [
    {
     "data": {
      "text/html": [
       "<div>\n",
       "<style>\n",
       "    .dataframe thead tr:only-child th {\n",
       "        text-align: right;\n",
       "    }\n",
       "\n",
       "    .dataframe thead th {\n",
       "        text-align: left;\n",
       "    }\n",
       "\n",
       "    .dataframe tbody tr th {\n",
       "        vertical-align: top;\n",
       "    }\n",
       "</style>\n",
       "<table border=\"1\" class=\"dataframe\">\n",
       "  <thead>\n",
       "    <tr style=\"text-align: right;\">\n",
       "      <th></th>\n",
       "      <th>Date</th>\n",
       "      <th>Price</th>\n",
       "      <th>Open</th>\n",
       "      <th>High</th>\n",
       "      <th>Low</th>\n",
       "      <th>Vol.</th>\n",
       "      <th>Change %</th>\n",
       "    </tr>\n",
       "  </thead>\n",
       "  <tbody>\n",
       "    <tr>\n",
       "      <th>0</th>\n",
       "      <td>1/1/2018</td>\n",
       "      <td>13354.0</td>\n",
       "      <td>13794.0</td>\n",
       "      <td>13893.0</td>\n",
       "      <td>12787.0</td>\n",
       "      <td>29.54K</td>\n",
       "      <td>-0.0323</td>\n",
       "    </tr>\n",
       "    <tr>\n",
       "      <th>1</th>\n",
       "      <td>1/2/2018</td>\n",
       "      <td>14709.0</td>\n",
       "      <td>13448.0</td>\n",
       "      <td>15300.0</td>\n",
       "      <td>12810.0</td>\n",
       "      <td>56.18K</td>\n",
       "      <td>1/0/1900</td>\n",
       "    </tr>\n",
       "    <tr>\n",
       "      <th>2</th>\n",
       "      <td>1/3/2018</td>\n",
       "      <td>15155.0</td>\n",
       "      <td>14713.0</td>\n",
       "      <td>15428.0</td>\n",
       "      <td>14522.0</td>\n",
       "      <td>38.35K</td>\n",
       "      <td>1/0/1900</td>\n",
       "    </tr>\n",
       "    <tr>\n",
       "      <th>3</th>\n",
       "      <td>1/4/2018</td>\n",
       "      <td>15160.0</td>\n",
       "      <td>15150.0</td>\n",
       "      <td>15390.0</td>\n",
       "      <td>14064.0</td>\n",
       "      <td>46.47K</td>\n",
       "      <td>1/0/1900</td>\n",
       "    </tr>\n",
       "    <tr>\n",
       "      <th>4</th>\n",
       "      <td>1/5/2018</td>\n",
       "      <td>16917.0</td>\n",
       "      <td>15159.0</td>\n",
       "      <td>17101.0</td>\n",
       "      <td>14769.0</td>\n",
       "      <td>54.63K</td>\n",
       "      <td>1/0/1900</td>\n",
       "    </tr>\n",
       "  </tbody>\n",
       "</table>\n",
       "</div>"
      ],
      "text/plain": [
       "       Date    Price     Open     High      Low    Vol.  Change %\n",
       "0  1/1/2018  13354.0  13794.0  13893.0  12787.0  29.54K   -0.0323\n",
       "1  1/2/2018  14709.0  13448.0  15300.0  12810.0  56.18K  1/0/1900\n",
       "2  1/3/2018  15155.0  14713.0  15428.0  14522.0  38.35K  1/0/1900\n",
       "3  1/4/2018  15160.0  15150.0  15390.0  14064.0  46.47K  1/0/1900\n",
       "4  1/5/2018  16917.0  15159.0  17101.0  14769.0  54.63K  1/0/1900"
      ]
     },
     "execution_count": 7,
     "metadata": {},
     "output_type": "execute_result"
    }
   ],
   "source": [
    "btc_df.head()"
   ]
  },
  {
   "cell_type": "markdown",
   "metadata": {},
   "source": [
    "###### We don't need all the columns in our data frames\n",
    "<ul>\n",
    "<li> We will create a new data frame using a python dictionary</li>\n",
    "<li> We take each of the data frame to create a new data frame with the data and price column</li>\n",
    "<li><b>Price</b> and <b>Date</b> are the two columns needed to do a time series analysis of our data</li>\n",
    "<li> The price will be renamed to reflect the commodity we are referring to e.g. bitcoin price will be btc_price</li>\n",
    "<ul>"
   ]
  },
  {
   "cell_type": "code",
   "execution_count": 8,
   "metadata": {
    "collapsed": true
   },
   "outputs": [],
   "source": [
    "nse_ASI = pd.DataFrame({'Date':nse_df['Date'], 'ASI':nse_df['Price']})\n",
    "btc = pd.DataFrame({'Date':btc_df['Date'], 'btc_price($)':btc_df['Price']})\n",
    "gold = pd.DataFrame({'Date':gold_df['Date'], 'gold_price($)':gold_df['Price']})\n",
    "brent = pd.DataFrame({'Date':brent_df['Date'], 'brent_price($)':brent_df['Price']})"
   ]
  },
  {
   "cell_type": "markdown",
   "metadata": {},
   "source": [
    "<br>We combine the new data frames into one</br>\n",
    "<br>This is done with the merge function in pandas</br>\n",
    "<br>We merge on date,a left merge so the date column will be the first column</br>"
   ]
  },
  {
   "cell_type": "code",
   "execution_count": 9,
   "metadata": {
    "collapsed": true
   },
   "outputs": [],
   "source": [
    "df = pd.merge(btc, nse_ASI, on = 'Date', how='left')\n",
    "df = pd.merge(df, brent, on = 'Date', how = 'left')\n",
    "df = pd.merge(df, gold, on = 'Date', how = 'left')"
   ]
  },
  {
   "cell_type": "markdown",
   "metadata": {},
   "source": [
    "<h1 style=\"font-size:2em;color:#2467C0\">Exploring Data</h1>\n",
    "<br> Let's check the first five rows of our data\n",
    "<br> A summary statisics of the data"
   ]
  },
  {
   "cell_type": "code",
   "execution_count": 10,
   "metadata": {},
   "outputs": [
    {
     "data": {
      "text/html": [
       "<div>\n",
       "<style>\n",
       "    .dataframe thead tr:only-child th {\n",
       "        text-align: right;\n",
       "    }\n",
       "\n",
       "    .dataframe thead th {\n",
       "        text-align: left;\n",
       "    }\n",
       "\n",
       "    .dataframe tbody tr th {\n",
       "        vertical-align: top;\n",
       "    }\n",
       "</style>\n",
       "<table border=\"1\" class=\"dataframe\">\n",
       "  <thead>\n",
       "    <tr style=\"text-align: right;\">\n",
       "      <th></th>\n",
       "      <th>Date</th>\n",
       "      <th>btc_price($)</th>\n",
       "      <th>ASI</th>\n",
       "      <th>brent_price($)</th>\n",
       "      <th>gold_price($)</th>\n",
       "    </tr>\n",
       "  </thead>\n",
       "  <tbody>\n",
       "    <tr>\n",
       "      <th>0</th>\n",
       "      <td>1/1/2018</td>\n",
       "      <td>13354.0</td>\n",
       "      <td>NaN</td>\n",
       "      <td>NaN</td>\n",
       "      <td>1308.7</td>\n",
       "    </tr>\n",
       "    <tr>\n",
       "      <th>1</th>\n",
       "      <td>1/2/2018</td>\n",
       "      <td>14709.0</td>\n",
       "      <td>38264.79</td>\n",
       "      <td>66.57</td>\n",
       "      <td>1313.7</td>\n",
       "    </tr>\n",
       "    <tr>\n",
       "      <th>2</th>\n",
       "      <td>1/3/2018</td>\n",
       "      <td>15155.0</td>\n",
       "      <td>38187.28</td>\n",
       "      <td>67.84</td>\n",
       "      <td>1316.2</td>\n",
       "    </tr>\n",
       "    <tr>\n",
       "      <th>3</th>\n",
       "      <td>1/4/2018</td>\n",
       "      <td>15160.0</td>\n",
       "      <td>38676.12</td>\n",
       "      <td>68.07</td>\n",
       "      <td>1319.4</td>\n",
       "    </tr>\n",
       "    <tr>\n",
       "      <th>4</th>\n",
       "      <td>1/5/2018</td>\n",
       "      <td>16917.0</td>\n",
       "      <td>38923.26</td>\n",
       "      <td>67.62</td>\n",
       "      <td>1320.3</td>\n",
       "    </tr>\n",
       "  </tbody>\n",
       "</table>\n",
       "</div>"
      ],
      "text/plain": [
       "       Date  btc_price($)       ASI  brent_price($)  gold_price($)\n",
       "0  1/1/2018       13354.0       NaN             NaN         1308.7\n",
       "1  1/2/2018       14709.0  38264.79           66.57         1313.7\n",
       "2  1/3/2018       15155.0  38187.28           67.84         1316.2\n",
       "3  1/4/2018       15160.0  38676.12           68.07         1319.4\n",
       "4  1/5/2018       16917.0  38923.26           67.62         1320.3"
      ]
     },
     "execution_count": 10,
     "metadata": {},
     "output_type": "execute_result"
    }
   ],
   "source": [
    "df.head()"
   ]
  },
  {
   "cell_type": "code",
   "execution_count": 11,
   "metadata": {},
   "outputs": [
    {
     "data": {
      "text/html": [
       "<div>\n",
       "<style>\n",
       "    .dataframe thead tr:only-child th {\n",
       "        text-align: right;\n",
       "    }\n",
       "\n",
       "    .dataframe thead th {\n",
       "        text-align: left;\n",
       "    }\n",
       "\n",
       "    .dataframe tbody tr th {\n",
       "        vertical-align: top;\n",
       "    }\n",
       "</style>\n",
       "<table border=\"1\" class=\"dataframe\">\n",
       "  <thead>\n",
       "    <tr style=\"text-align: right;\">\n",
       "      <th></th>\n",
       "      <th>btc_price($)</th>\n",
       "      <th>ASI</th>\n",
       "      <th>brent_price($)</th>\n",
       "      <th>gold_price($)</th>\n",
       "    </tr>\n",
       "  </thead>\n",
       "  <tbody>\n",
       "    <tr>\n",
       "      <th>count</th>\n",
       "      <td>191.000000</td>\n",
       "      <td>129.000000</td>\n",
       "      <td>135.000000</td>\n",
       "      <td>141.000000</td>\n",
       "    </tr>\n",
       "    <tr>\n",
       "      <th>mean</th>\n",
       "      <td>8966.439791</td>\n",
       "      <td>41105.819457</td>\n",
       "      <td>71.502889</td>\n",
       "      <td>1313.375887</td>\n",
       "    </tr>\n",
       "    <tr>\n",
       "      <th>std</th>\n",
       "      <td>2290.241305</td>\n",
       "      <td>2082.544118</td>\n",
       "      <td>4.856040</td>\n",
       "      <td>27.839691</td>\n",
       "    </tr>\n",
       "    <tr>\n",
       "      <th>min</th>\n",
       "      <td>5850.000000</td>\n",
       "      <td>36816.290000</td>\n",
       "      <td>62.590000</td>\n",
       "      <td>1239.800000</td>\n",
       "    </tr>\n",
       "    <tr>\n",
       "      <th>25%</th>\n",
       "      <td>7357.000000</td>\n",
       "      <td>39695.160000</td>\n",
       "      <td>67.620000</td>\n",
       "      <td>1298.300000</td>\n",
       "    </tr>\n",
       "    <tr>\n",
       "      <th>50%</th>\n",
       "      <td>8515.000000</td>\n",
       "      <td>41022.310000</td>\n",
       "      <td>70.520000</td>\n",
       "      <td>1318.600000</td>\n",
       "    </tr>\n",
       "    <tr>\n",
       "      <th>75%</th>\n",
       "      <td>9949.000000</td>\n",
       "      <td>42839.520000</td>\n",
       "      <td>75.715000</td>\n",
       "      <td>1333.000000</td>\n",
       "    </tr>\n",
       "    <tr>\n",
       "      <th>max</th>\n",
       "      <td>17161.000000</td>\n",
       "      <td>45092.830000</td>\n",
       "      <td>79.800000</td>\n",
       "      <td>1362.400000</td>\n",
       "    </tr>\n",
       "  </tbody>\n",
       "</table>\n",
       "</div>"
      ],
      "text/plain": [
       "       btc_price($)           ASI  brent_price($)  gold_price($)\n",
       "count    191.000000    129.000000      135.000000     141.000000\n",
       "mean    8966.439791  41105.819457       71.502889    1313.375887\n",
       "std     2290.241305   2082.544118        4.856040      27.839691\n",
       "min     5850.000000  36816.290000       62.590000    1239.800000\n",
       "25%     7357.000000  39695.160000       67.620000    1298.300000\n",
       "50%     8515.000000  41022.310000       70.520000    1318.600000\n",
       "75%     9949.000000  42839.520000       75.715000    1333.000000\n",
       "max    17161.000000  45092.830000       79.800000    1362.400000"
      ]
     },
     "execution_count": 11,
     "metadata": {},
     "output_type": "execute_result"
    }
   ],
   "source": [
    "df.describe()"
   ]
  },
  {
   "cell_type": "markdown",
   "metadata": {},
   "source": [
    "<ul>\n",
    "<li> The mean price of bitcoin is <b>8966.43</b></li>\n",
    "<li> The highest price of bitcoin <b>17161</b> and lowest <b>5850.00</b></li>\n",
    "<li> The mean price of brent crude is <b>71.50</b></li>\n",
    "<li> The highest price of brent crude <b>79.8</b> and lowest <b>62.59</b></li>\n",
    "<li> The mean price of gold is <b>1313.37</b></li>\n",
    "<li> The highest price of gold <b>1362.40</b> and lowest <b>1239.80</b></li>\n",
    "<li> The mean of the NSE ASI is <b>8966.43</b></li>\n",
    "<li> The highest value of NSE ASI <b>45092.83</b> and lowest <b>36816.29</b></li>"
   ]
  },
  {
   "cell_type": "markdown",
   "metadata": {},
   "source": [
    "<h2 style=\"font-size:2em;color:#2467C0\">Dealing with Missing Data</h2>\n",
    "\n",
    "<br> First, we check if there are any missing values in our data. That's what the next cell does.\n",
    "\n",
    "<br> There are missing values in our data. There are <b>62</b> days with missing data\n",
    "\n",
    "<br> The missing values are weekend data (Saturday and Sunday) on the NSE ASI.\n",
    "\n",
    "<br> There are different ways to deal with this. We could forward/backward fill.\n",
    "\n",
    "<br> Since the data are absent, it is best we drop days with missing values."
   ]
  },
  {
   "cell_type": "code",
   "execution_count": 12,
   "metadata": {},
   "outputs": [
    {
     "data": {
      "text/plain": [
       "62"
      ]
     },
     "execution_count": 12,
     "metadata": {},
     "output_type": "execute_result"
    }
   ],
   "source": [
    "len(df[pd.isnull(df).any(axis=1)])"
   ]
  },
  {
   "cell_type": "code",
   "execution_count": 13,
   "metadata": {
    "collapsed": true
   },
   "outputs": [],
   "source": [
    "#drop days with missing values\n",
    "\n",
    "df = df.dropna()"
   ]
  },
  {
   "cell_type": "code",
   "execution_count": 14,
   "metadata": {
    "collapsed": true
   },
   "outputs": [],
   "source": [
    "# convert the date to a python date time format\n",
    "\n",
    "df['Date'] = pd.to_datetime(df['Date'])"
   ]
  },
  {
   "cell_type": "code",
   "execution_count": null,
   "metadata": {
    "collapsed": true
   },
   "outputs": [],
   "source": [
    "iplot({\n",
    "    'data':[go.Scatter(x = df['Date'], y = df['ASI'], name='ASI')],\n",
    "    'layout':go.Layout({'title':'Time Series of Nigerian Stock Exchange ASI in 2018', \n",
    "                        'xaxis':{'title':'Date'}, \n",
    "                        'yaxis':{'title':'ASI'}}, showlegend=True)\n",
    "},image_width=40, image_height=40)"
   ]
  },
  {
   "cell_type": "code",
   "execution_count": null,
   "metadata": {
    "collapsed": true
   },
   "outputs": [],
   "source": [
    "iplot({\n",
    "    'data':[go.Scatter(x = df['Date'], y = df['btc_price'], name='Bitcoin')],\n",
    "    'layout':go.Layout({'title':'Time Series of Bitcoin Price in 2018', \n",
    "                        'xaxis':{'title':'Date'}, \n",
    "                        'yaxis':{'title':'Bitcoin Price'}}, showlegend=True)\n",
    "},image_width=50, image_height=50)"
   ]
  },
  {
   "cell_type": "code",
   "execution_count": null,
   "metadata": {
    "collapsed": true
   },
   "outputs": [],
   "source": [
    "iplot({\n",
    "    'data':[go.Scatter(x = df['Date'], y = df['brent_price'], name='ASI')],\n",
    "    'layout':go.Layout({'title':'Time Series of Crude Oil Price(Brent) in 2018', \n",
    "                        'xaxis':{'title':'Date'}, \n",
    "                        'yaxis':{'title':'Brent Price'}}, showlegend=True)\n",
    "},image_width=50, image_height=50)"
   ]
  },
  {
   "cell_type": "code",
   "execution_count": null,
   "metadata": {
    "collapsed": true
   },
   "outputs": [],
   "source": [
    "# scale the da\n",
    "scale = MinMaxScaler()\n",
    "df.iloc[:,1:] = scale.fit_transform(df.iloc[:,1:])"
   ]
  },
  {
   "cell_type": "code",
   "execution_count": null,
   "metadata": {
    "collapsed": true
   },
   "outputs": [],
   "source": [
    "# first line plot\n",
    "nse = go.Scatter(x = df['Date'],\n",
    "                y= df['ASI'],\n",
    "                mode = 'lines+markers',\n",
    "                name = 'All Share Index')\n",
    "\n",
    "# second line plot\n",
    "bitcoin = go.Scatter(x = df['Date'],\n",
    "                y= df['btc_price'],\n",
    "                mode = 'lines+markers',\n",
    "                name = 'Bitcoin Price')\n",
    "\n",
    "# third line plot\n",
    "gold = go.Scatter(x = df['Date'],\n",
    "                y= df['gold_price'],\n",
    "                mode = 'lines+markers',\n",
    "                name = 'Gold Price')\n",
    "\n",
    "# last line plot\n",
    "brent = go.Scatter(x=df['Date'],\n",
    "                  y= df['brent_price'],\n",
    "                  mode = 'lines+markers',\n",
    "                  name = 'Brent Price')\n",
    "\n",
    "layout = go.Layout({\n",
    "    'title': 'Time Series of the prices of gold, btc, brent and NSE ASI',\n",
    "    'xaxis':{'title':'Date'},\n",
    "    'yaxis':{'title': 'Prices'}}, showlegend=True)"
   ]
  },
  {
   "cell_type": "code",
   "execution_count": null,
   "metadata": {
    "collapsed": true
   },
   "outputs": [],
   "source": [
    "data = [nse, bitcoin, gold, brent]\n",
    "fig = dict(data=data, layout=layout)\n",
    "iplot(fig)"
   ]
  },
  {
   "cell_type": "code",
   "execution_count": null,
   "metadata": {
    "collapsed": true
   },
   "outputs": [],
   "source": [
    "iplot({\n",
    "    'data':[go.Scatter(x = df['Date'], y = df['gold_price'], name='Gold')],\n",
    "    'layout':go.Layout({'title':'Time Series of Gold Price in 2018', \n",
    "                        'xaxis':{'title':'Date'}, \n",
    "                        'yaxis':{'title':'Gold Price'}}, showlegend=True)\n",
    "},image_width=50, image_height=50)"
   ]
  },
  {
   "cell_type": "code",
   "execution_count": null,
   "metadata": {
    "collapsed": true
   },
   "outputs": [],
   "source": [
    "corr = df.corr()\n",
    "plt.figure(figsize=(10, 8))\n",
    "cmap = sns.diverging_palette( 220 , 10 , as_cmap = True )\n",
    "sns.heatmap(corr, annot=True, cmap=cmap,linewidths=2.0)"
   ]
  }
 ],
 "metadata": {
  "kernelspec": {
   "display_name": "Python [conda env:anaconda3]",
   "language": "python",
   "name": "conda-env-anaconda3-py"
  },
  "language_info": {
   "codemirror_mode": {
    "name": "ipython",
    "version": 3
   },
   "file_extension": ".py",
   "mimetype": "text/x-python",
   "name": "python",
   "nbconvert_exporter": "python",
   "pygments_lexer": "ipython3",
   "version": "3.5.3"
  }
 },
 "nbformat": 4,
 "nbformat_minor": 2
}
